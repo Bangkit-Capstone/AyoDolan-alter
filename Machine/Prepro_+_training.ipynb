{
  "nbformat": 4,
  "nbformat_minor": 0,
  "metadata": {
    "colab": {
      "name": "Prepro + training.ipynb",
      "provenance": [],
      "collapsed_sections": []
    },
    "kernelspec": {
      "name": "python3",
      "display_name": "Python 3"
    },
    "language_info": {
      "name": "python"
    }
  },
  "cells": [
    {
      "cell_type": "markdown",
      "metadata": {
        "id": "71gCNf6sQXle"
      },
      "source": [
        "Import file csv dataset yang sudah dibersikah attribute yang tidak perlu.\n",
        "Kolom hanya terdiri dari nama, text, dan bintang<br>\n",
        "note : belum didropduplicate"
      ]
    },
    {
      "cell_type": "code",
      "metadata": {
        "id": "zklVfhtRuqzQ"
      },
      "source": [
        "import pandas as pd\n",
        "import re\n",
        "phase2 = pd.read_csv('reviewset.csv')"
      ],
      "execution_count": 44,
      "outputs": []
    },
    {
      "cell_type": "markdown",
      "metadata": {
        "id": "KdMmLVHLQuPt"
      },
      "source": [
        "Penghitungan bintang tiap kategori"
      ]
    },
    {
      "cell_type": "code",
      "metadata": {
        "colab": {
          "base_uri": "https://localhost:8080/"
        },
        "id": "uSHHDXFzhMg7",
        "outputId": "7465f294-8aa3-4a04-e485-c9d7aef14738"
      },
      "source": [
        "phase2.star.value_counts()"
      ],
      "execution_count": 45,
      "outputs": [
        {
          "output_type": "execute_result",
          "data": {
            "text/plain": [
              "5    25954\n",
              "4    12631\n",
              "3     5826\n",
              "1     1135\n",
              "2     1089\n",
              "Name: star, dtype: int64"
            ]
          },
          "metadata": {
            "tags": []
          },
          "execution_count": 45
        }
      ]
    },
    {
      "cell_type": "code",
      "metadata": {
        "colab": {
          "base_uri": "https://localhost:8080/"
        },
        "id": "S-3b2HpGRk5b",
        "outputId": "01055d73-b224-4ab1-c886-a4dd190bd365"
      },
      "source": [
        "phase2.star.value_counts()"
      ],
      "execution_count": 118,
      "outputs": [
        {
          "output_type": "execute_result",
          "data": {
            "text/plain": [
              "5    20934\n",
              "4     9023\n",
              "3     4376\n",
              "1      881\n",
              "2      834\n",
              "Name: star, dtype: int64"
            ]
          },
          "metadata": {
            "tags": []
          },
          "execution_count": 118
        }
      ]
    },
    {
      "cell_type": "code",
      "metadata": {
        "colab": {
          "base_uri": "https://localhost:8080/",
          "height": 424
        },
        "id": "Nj9FwxXmkpsD",
        "outputId": "527335cc-cd86-4bde-b924-a35ca36ea799"
      },
      "source": [
        "phase2"
      ],
      "execution_count": 46,
      "outputs": [
        {
          "output_type": "execute_result",
          "data": {
            "text/html": [
              "<div>\n",
              "<style scoped>\n",
              "    .dataframe tbody tr th:only-of-type {\n",
              "        vertical-align: middle;\n",
              "    }\n",
              "\n",
              "    .dataframe tbody tr th {\n",
              "        vertical-align: top;\n",
              "    }\n",
              "\n",
              "    .dataframe thead th {\n",
              "        text-align: right;\n",
              "    }\n",
              "</style>\n",
              "<table border=\"1\" class=\"dataframe\">\n",
              "  <thead>\n",
              "    <tr style=\"text-align: right;\">\n",
              "      <th></th>\n",
              "      <th>name</th>\n",
              "      <th>text</th>\n",
              "      <th>star</th>\n",
              "    </tr>\n",
              "  </thead>\n",
              "  <tbody>\n",
              "    <tr>\n",
              "      <th>0</th>\n",
              "      <td>Dwi Widjanarkoir</td>\n",
              "      <td>Sudah lama nggak ke sini</td>\n",
              "      <td>4</td>\n",
              "    </tr>\n",
              "    <tr>\n",
              "      <th>1</th>\n",
              "      <td>Nugi Tiartanto</td>\n",
              "      <td>Pengen kesini lagi</td>\n",
              "      <td>5</td>\n",
              "    </tr>\n",
              "    <tr>\n",
              "      <th>2</th>\n",
              "      <td>Basoeki Joko</td>\n",
              "      <td>Ketika masih muda dulu setiap bulan Syura past...</td>\n",
              "      <td>5</td>\n",
              "    </tr>\n",
              "    <tr>\n",
              "      <th>3</th>\n",
              "      <td>Dyan Asriyanto</td>\n",
              "      <td>Gunung lawu luar biasa untuk pendakian saya su...</td>\n",
              "      <td>5</td>\n",
              "    </tr>\n",
              "    <tr>\n",
              "      <th>4</th>\n",
              "      <td>Widiya Ambara</td>\n",
              "      <td>Jalur pendakian Gn Lawu via Cetho masih jadi f...</td>\n",
              "      <td>5</td>\n",
              "    </tr>\n",
              "    <tr>\n",
              "      <th>...</th>\n",
              "      <td>...</td>\n",
              "      <td>...</td>\n",
              "      <td>...</td>\n",
              "    </tr>\n",
              "    <tr>\n",
              "      <th>46630</th>\n",
              "      <td>Aria Dhika Rayendra</td>\n",
              "      <td>Banyak kegiatan tersedia dan tempat itu terasa...</td>\n",
              "      <td>4</td>\n",
              "    </tr>\n",
              "    <tr>\n",
              "      <th>46631</th>\n",
              "      <td>Ray Dhanitra Ahmad</td>\n",
              "      <td>Rasanya</td>\n",
              "      <td>4</td>\n",
              "    </tr>\n",
              "    <tr>\n",
              "      <th>46632</th>\n",
              "      <td>Dermawan ابن احمد رمضان</td>\n",
              "      <td>Tembaga</td>\n",
              "      <td>4</td>\n",
              "    </tr>\n",
              "    <tr>\n",
              "      <th>46633</th>\n",
              "      <td>Gabriel Morton</td>\n",
              "      <td>Daerah ini telah mengalami peningkatan yang si...</td>\n",
              "      <td>4</td>\n",
              "    </tr>\n",
              "    <tr>\n",
              "      <th>46634</th>\n",
              "      <td>selli cesyazura</td>\n",
              "      <td>Wow</td>\n",
              "      <td>4</td>\n",
              "    </tr>\n",
              "  </tbody>\n",
              "</table>\n",
              "<p>46635 rows × 3 columns</p>\n",
              "</div>"
            ],
            "text/plain": [
              "                          name  ... star\n",
              "0             Dwi Widjanarkoir  ...    4\n",
              "1               Nugi Tiartanto  ...    5\n",
              "2                 Basoeki Joko  ...    5\n",
              "3               Dyan Asriyanto  ...    5\n",
              "4                Widiya Ambara  ...    5\n",
              "...                        ...  ...  ...\n",
              "46630      Aria Dhika Rayendra  ...    4\n",
              "46631       Ray Dhanitra Ahmad  ...    4\n",
              "46632  Dermawan ابن احمد رمضان  ...    4\n",
              "46633           Gabriel Morton  ...    4\n",
              "46634          selli cesyazura  ...    4\n",
              "\n",
              "[46635 rows x 3 columns]"
            ]
          },
          "metadata": {
            "tags": []
          },
          "execution_count": 46
        }
      ]
    },
    {
      "cell_type": "markdown",
      "metadata": {
        "id": "lxnEYPd9RAJV"
      },
      "source": [
        "Penghilangan simbol"
      ]
    },
    {
      "cell_type": "code",
      "metadata": {
        "id": "5KuqzX5dyIE1"
      },
      "source": [
        "clean_tweets = []\n",
        "for tweet in phase2['text']:\n",
        "    tweet = ' '.join(re.sub(\"(\\w+:\\/\\/\\S+)|(#[A-Za-z0-9]+)|(@[A-Za-z0-9]+)|([^0-9A-Za-z \\t])\",\" \",str(tweet)).split())\n",
        "    clean_tweets.append(tweet)\n",
        "phase2['text'] = clean_tweets"
      ],
      "execution_count": 47,
      "outputs": []
    },
    {
      "cell_type": "code",
      "metadata": {
        "colab": {
          "base_uri": "https://localhost:8080/",
          "height": 36
        },
        "id": "4JEEMUcKydXB",
        "outputId": "c172b1b6-13cd-41ee-8269-94a169c977a5"
      },
      "source": [
        "phase2['full_text'][1]"
      ],
      "execution_count": null,
      "outputs": [
        {
          "output_type": "execute_result",
          "data": {
            "application/vnd.google.colaboratory.intrinsic+json": {
              "type": "string"
            },
            "text/plain": [
              "'free falling kebun raya purwodadi'"
            ]
          },
          "metadata": {
            "tags": []
          },
          "execution_count": 115
        }
      ]
    },
    {
      "cell_type": "markdown",
      "metadata": {
        "id": "ROuSp85dRQqP"
      },
      "source": [
        "Drop duplicate dibawahnya jika ada dobel dan simpan index teratas"
      ]
    },
    {
      "cell_type": "code",
      "metadata": {
        "id": "rK8kImtMmJzC"
      },
      "source": [
        "phase2.to_csv('reviewsetdropped.csv',index=False)"
      ],
      "execution_count": 49,
      "outputs": []
    },
    {
      "cell_type": "markdown",
      "metadata": {
        "id": "pWwCKkhfULLK"
      },
      "source": [
        "Drop length kurang dari 1"
      ]
    },
    {
      "cell_type": "code",
      "metadata": {
        "id": "lEtejzaAfBOO"
      },
      "source": [
        "import pandas as pd\n",
        "\n",
        "phase25 = pd.read_csv('reviewsetdropped.csv')"
      ],
      "execution_count": 50,
      "outputs": []
    },
    {
      "cell_type": "code",
      "metadata": {
        "id": "DQe70fKczoRl"
      },
      "source": [
        "phase25.drop_duplicates(subset =\"text\", keep = 'first', inplace = True)"
      ],
      "execution_count": 51,
      "outputs": []
    },
    {
      "cell_type": "code",
      "metadata": {
        "id": "HTkUY7YznUKj"
      },
      "source": [
        "phase25[phase25.text.str.len() > 1].to_csv('reviewsetlenmorethanone.csv',index=False)"
      ],
      "execution_count": 52,
      "outputs": []
    },
    {
      "cell_type": "code",
      "metadata": {
        "id": "qVZgzotB_WcO"
      },
      "source": [
        "import pandas as pd\n",
        "\n",
        "phase3 = pd.read_csv('reviewsetlenmorethanone.csv')"
      ],
      "execution_count": 53,
      "outputs": []
    },
    {
      "cell_type": "code",
      "metadata": {
        "colab": {
          "base_uri": "https://localhost:8080/",
          "height": 424
        },
        "id": "0sTFbVkj97d0",
        "outputId": "ff9bb9ed-5e9e-451d-ad76-e0d535e48121"
      },
      "source": [
        "phase3"
      ],
      "execution_count": 54,
      "outputs": [
        {
          "output_type": "execute_result",
          "data": {
            "text/html": [
              "<div>\n",
              "<style scoped>\n",
              "    .dataframe tbody tr th:only-of-type {\n",
              "        vertical-align: middle;\n",
              "    }\n",
              "\n",
              "    .dataframe tbody tr th {\n",
              "        vertical-align: top;\n",
              "    }\n",
              "\n",
              "    .dataframe thead th {\n",
              "        text-align: right;\n",
              "    }\n",
              "</style>\n",
              "<table border=\"1\" class=\"dataframe\">\n",
              "  <thead>\n",
              "    <tr style=\"text-align: right;\">\n",
              "      <th></th>\n",
              "      <th>name</th>\n",
              "      <th>text</th>\n",
              "      <th>star</th>\n",
              "    </tr>\n",
              "  </thead>\n",
              "  <tbody>\n",
              "    <tr>\n",
              "      <th>0</th>\n",
              "      <td>Dwi Widjanarkoir</td>\n",
              "      <td>Sudah lama nggak ke sini</td>\n",
              "      <td>4</td>\n",
              "    </tr>\n",
              "    <tr>\n",
              "      <th>1</th>\n",
              "      <td>Nugi Tiartanto</td>\n",
              "      <td>Pengen kesini lagi</td>\n",
              "      <td>5</td>\n",
              "    </tr>\n",
              "    <tr>\n",
              "      <th>2</th>\n",
              "      <td>Basoeki Joko</td>\n",
              "      <td>Ketika masih muda dulu setiap bulan Syura past...</td>\n",
              "      <td>5</td>\n",
              "    </tr>\n",
              "    <tr>\n",
              "      <th>3</th>\n",
              "      <td>Dyan Asriyanto</td>\n",
              "      <td>Gunung lawu luar biasa untuk pendakian saya su...</td>\n",
              "      <td>5</td>\n",
              "    </tr>\n",
              "    <tr>\n",
              "      <th>4</th>\n",
              "      <td>Widiya Ambara</td>\n",
              "      <td>Jalur pendakian Gn Lawu via Cetho masih jadi f...</td>\n",
              "      <td>5</td>\n",
              "    </tr>\n",
              "    <tr>\n",
              "      <th>...</th>\n",
              "      <td>...</td>\n",
              "      <td>...</td>\n",
              "      <td>...</td>\n",
              "    </tr>\n",
              "    <tr>\n",
              "      <th>38319</th>\n",
              "      <td>Libor Uhlík</td>\n",
              "      <td>Kota tua kota di Jakarta Sangat gagak Balai ko...</td>\n",
              "      <td>4</td>\n",
              "    </tr>\n",
              "    <tr>\n",
              "      <th>38320</th>\n",
              "      <td>arifanti murniawati</td>\n",
              "      <td>Untuk melihat suasana sekitar</td>\n",
              "      <td>4</td>\n",
              "    </tr>\n",
              "    <tr>\n",
              "      <th>38321</th>\n",
              "      <td>Aria Dhika Rayendra</td>\n",
              "      <td>Banyak kegiatan tersedia dan tempat itu terasa...</td>\n",
              "      <td>4</td>\n",
              "    </tr>\n",
              "    <tr>\n",
              "      <th>38322</th>\n",
              "      <td>Ray Dhanitra Ahmad</td>\n",
              "      <td>Rasanya</td>\n",
              "      <td>4</td>\n",
              "    </tr>\n",
              "    <tr>\n",
              "      <th>38323</th>\n",
              "      <td>Gabriel Morton</td>\n",
              "      <td>Daerah ini telah mengalami peningkatan yang si...</td>\n",
              "      <td>4</td>\n",
              "    </tr>\n",
              "  </tbody>\n",
              "</table>\n",
              "<p>38324 rows × 3 columns</p>\n",
              "</div>"
            ],
            "text/plain": [
              "                      name  ... star\n",
              "0         Dwi Widjanarkoir  ...    4\n",
              "1           Nugi Tiartanto  ...    5\n",
              "2             Basoeki Joko  ...    5\n",
              "3           Dyan Asriyanto  ...    5\n",
              "4            Widiya Ambara  ...    5\n",
              "...                    ...  ...  ...\n",
              "38319          Libor Uhlík  ...    4\n",
              "38320  arifanti murniawati  ...    4\n",
              "38321  Aria Dhika Rayendra  ...    4\n",
              "38322   Ray Dhanitra Ahmad  ...    4\n",
              "38323       Gabriel Morton  ...    4\n",
              "\n",
              "[38324 rows x 3 columns]"
            ]
          },
          "metadata": {
            "tags": []
          },
          "execution_count": 54
        }
      ]
    },
    {
      "cell_type": "code",
      "metadata": {
        "colab": {
          "base_uri": "https://localhost:8080/"
        },
        "id": "WUFfd1d0R6ng",
        "outputId": "ef50ed7e-0888-4e94-b415-b935525ded44"
      },
      "source": [
        "phase3.star.value_counts()"
      ],
      "execution_count": 55,
      "outputs": [
        {
          "output_type": "execute_result",
          "data": {
            "text/plain": [
              "5    20929\n",
              "4    10641\n",
              "3     4871\n",
              "1      959\n",
              "2      924\n",
              "Name: star, dtype: int64"
            ]
          },
          "metadata": {
            "tags": []
          },
          "execution_count": 55
        }
      ]
    },
    {
      "cell_type": "markdown",
      "metadata": {
        "id": "FUyn8hJogJmG"
      },
      "source": [
        "Dikurangi 1 agar kategori 0 sampai 4 jumlahnya 5"
      ]
    },
    {
      "cell_type": "code",
      "metadata": {
        "id": "f6sRXxzZoSmt"
      },
      "source": [
        "phase3.loc[:,'star'] = phase3['star']-1"
      ],
      "execution_count": 56,
      "outputs": []
    },
    {
      "cell_type": "code",
      "metadata": {
        "colab": {
          "base_uri": "https://localhost:8080/",
          "height": 424
        },
        "id": "uuZuEd0a94bE",
        "outputId": "80e261dc-941b-4f37-a472-e7fc4acbab33"
      },
      "source": [
        "phase3"
      ],
      "execution_count": 57,
      "outputs": [
        {
          "output_type": "execute_result",
          "data": {
            "text/html": [
              "<div>\n",
              "<style scoped>\n",
              "    .dataframe tbody tr th:only-of-type {\n",
              "        vertical-align: middle;\n",
              "    }\n",
              "\n",
              "    .dataframe tbody tr th {\n",
              "        vertical-align: top;\n",
              "    }\n",
              "\n",
              "    .dataframe thead th {\n",
              "        text-align: right;\n",
              "    }\n",
              "</style>\n",
              "<table border=\"1\" class=\"dataframe\">\n",
              "  <thead>\n",
              "    <tr style=\"text-align: right;\">\n",
              "      <th></th>\n",
              "      <th>name</th>\n",
              "      <th>text</th>\n",
              "      <th>star</th>\n",
              "    </tr>\n",
              "  </thead>\n",
              "  <tbody>\n",
              "    <tr>\n",
              "      <th>0</th>\n",
              "      <td>Dwi Widjanarkoir</td>\n",
              "      <td>Sudah lama nggak ke sini</td>\n",
              "      <td>3</td>\n",
              "    </tr>\n",
              "    <tr>\n",
              "      <th>1</th>\n",
              "      <td>Nugi Tiartanto</td>\n",
              "      <td>Pengen kesini lagi</td>\n",
              "      <td>4</td>\n",
              "    </tr>\n",
              "    <tr>\n",
              "      <th>2</th>\n",
              "      <td>Basoeki Joko</td>\n",
              "      <td>Ketika masih muda dulu setiap bulan Syura past...</td>\n",
              "      <td>4</td>\n",
              "    </tr>\n",
              "    <tr>\n",
              "      <th>3</th>\n",
              "      <td>Dyan Asriyanto</td>\n",
              "      <td>Gunung lawu luar biasa untuk pendakian saya su...</td>\n",
              "      <td>4</td>\n",
              "    </tr>\n",
              "    <tr>\n",
              "      <th>4</th>\n",
              "      <td>Widiya Ambara</td>\n",
              "      <td>Jalur pendakian Gn Lawu via Cetho masih jadi f...</td>\n",
              "      <td>4</td>\n",
              "    </tr>\n",
              "    <tr>\n",
              "      <th>...</th>\n",
              "      <td>...</td>\n",
              "      <td>...</td>\n",
              "      <td>...</td>\n",
              "    </tr>\n",
              "    <tr>\n",
              "      <th>38319</th>\n",
              "      <td>Libor Uhlík</td>\n",
              "      <td>Kota tua kota di Jakarta Sangat gagak Balai ko...</td>\n",
              "      <td>3</td>\n",
              "    </tr>\n",
              "    <tr>\n",
              "      <th>38320</th>\n",
              "      <td>arifanti murniawati</td>\n",
              "      <td>Untuk melihat suasana sekitar</td>\n",
              "      <td>3</td>\n",
              "    </tr>\n",
              "    <tr>\n",
              "      <th>38321</th>\n",
              "      <td>Aria Dhika Rayendra</td>\n",
              "      <td>Banyak kegiatan tersedia dan tempat itu terasa...</td>\n",
              "      <td>3</td>\n",
              "    </tr>\n",
              "    <tr>\n",
              "      <th>38322</th>\n",
              "      <td>Ray Dhanitra Ahmad</td>\n",
              "      <td>Rasanya</td>\n",
              "      <td>3</td>\n",
              "    </tr>\n",
              "    <tr>\n",
              "      <th>38323</th>\n",
              "      <td>Gabriel Morton</td>\n",
              "      <td>Daerah ini telah mengalami peningkatan yang si...</td>\n",
              "      <td>3</td>\n",
              "    </tr>\n",
              "  </tbody>\n",
              "</table>\n",
              "<p>38324 rows × 3 columns</p>\n",
              "</div>"
            ],
            "text/plain": [
              "                      name  ... star\n",
              "0         Dwi Widjanarkoir  ...    3\n",
              "1           Nugi Tiartanto  ...    4\n",
              "2             Basoeki Joko  ...    4\n",
              "3           Dyan Asriyanto  ...    4\n",
              "4            Widiya Ambara  ...    4\n",
              "...                    ...  ...  ...\n",
              "38319          Libor Uhlík  ...    3\n",
              "38320  arifanti murniawati  ...    3\n",
              "38321  Aria Dhika Rayendra  ...    3\n",
              "38322   Ray Dhanitra Ahmad  ...    3\n",
              "38323       Gabriel Morton  ...    3\n",
              "\n",
              "[38324 rows x 3 columns]"
            ]
          },
          "metadata": {
            "tags": []
          },
          "execution_count": 57
        }
      ]
    },
    {
      "cell_type": "code",
      "metadata": {
        "colab": {
          "base_uri": "https://localhost:8080/"
        },
        "id": "MJpc_14ZoZKX",
        "outputId": "5460d98b-1f31-4546-a40f-77288b28c0fd"
      },
      "source": [
        "FEATURES = 'text'\n",
        "TARGET = 'star'\n",
        "\n",
        "FEATURES, TARGET"
      ],
      "execution_count": 58,
      "outputs": [
        {
          "output_type": "execute_result",
          "data": {
            "text/plain": [
              "('text', 'star')"
            ]
          },
          "metadata": {
            "tags": []
          },
          "execution_count": 58
        }
      ]
    },
    {
      "cell_type": "code",
      "metadata": {
        "colab": {
          "base_uri": "https://localhost:8080/",
          "height": 363
        },
        "id": "5vLuWIrKqGz0",
        "outputId": "52d65cb0-fa30-42ab-e80e-6260810a02e5"
      },
      "source": [
        "import pandas as pd\n",
        "df = pd.DataFrame()\n",
        "df[FEATURES] = phase3['text']\n",
        "df[TARGET] = phase3['star']\n",
        "\n",
        "df.sample(10)"
      ],
      "execution_count": 59,
      "outputs": [
        {
          "output_type": "execute_result",
          "data": {
            "text/html": [
              "<div>\n",
              "<style scoped>\n",
              "    .dataframe tbody tr th:only-of-type {\n",
              "        vertical-align: middle;\n",
              "    }\n",
              "\n",
              "    .dataframe tbody tr th {\n",
              "        vertical-align: top;\n",
              "    }\n",
              "\n",
              "    .dataframe thead th {\n",
              "        text-align: right;\n",
              "    }\n",
              "</style>\n",
              "<table border=\"1\" class=\"dataframe\">\n",
              "  <thead>\n",
              "    <tr style=\"text-align: right;\">\n",
              "      <th></th>\n",
              "      <th>text</th>\n",
              "      <th>star</th>\n",
              "    </tr>\n",
              "  </thead>\n",
              "  <tbody>\n",
              "    <tr>\n",
              "      <th>34971</th>\n",
              "      <td>Indah banget Sayang parkir jauh</td>\n",
              "      <td>2</td>\n",
              "    </tr>\n",
              "    <tr>\n",
              "      <th>28707</th>\n",
              "      <td>Rekreasi yuk</td>\n",
              "      <td>4</td>\n",
              "    </tr>\n",
              "    <tr>\n",
              "      <th>17733</th>\n",
              "      <td>Bersih sejuk damai tetapi kurang dalam inovasi</td>\n",
              "      <td>2</td>\n",
              "    </tr>\n",
              "    <tr>\n",
              "      <th>29280</th>\n",
              "      <td>Viuw bagus</td>\n",
              "      <td>3</td>\n",
              "    </tr>\n",
              "    <tr>\n",
              "      <th>2568</th>\n",
              "      <td>Butuh perjuangan banget bisa sampe disini doan...</td>\n",
              "      <td>4</td>\n",
              "    </tr>\n",
              "    <tr>\n",
              "      <th>37966</th>\n",
              "      <td>Cocok untuk sejarawan</td>\n",
              "      <td>3</td>\n",
              "    </tr>\n",
              "    <tr>\n",
              "      <th>29768</th>\n",
              "      <td>progres pengembangan pantai wisata yang bagus</td>\n",
              "      <td>3</td>\n",
              "    </tr>\n",
              "    <tr>\n",
              "      <th>28368</th>\n",
              "      <td>Mantab buat refresing sama keluarga</td>\n",
              "      <td>3</td>\n",
              "    </tr>\n",
              "    <tr>\n",
              "      <th>7751</th>\n",
              "      <td>Sejuk udara dipuncaknya dn bagus jg tempatnya ...</td>\n",
              "      <td>4</td>\n",
              "    </tr>\n",
              "    <tr>\n",
              "      <th>3447</th>\n",
              "      <td>Candi terbesar di dunia dan merupakan monumen ...</td>\n",
              "      <td>4</td>\n",
              "    </tr>\n",
              "  </tbody>\n",
              "</table>\n",
              "</div>"
            ],
            "text/plain": [
              "                                                    text  star\n",
              "34971                    Indah banget Sayang parkir jauh     2\n",
              "28707                                       Rekreasi yuk     4\n",
              "17733     Bersih sejuk damai tetapi kurang dalam inovasi     2\n",
              "29280                                         Viuw bagus     3\n",
              "2568   Butuh perjuangan banget bisa sampe disini doan...     4\n",
              "37966                              Cocok untuk sejarawan     3\n",
              "29768      progres pengembangan pantai wisata yang bagus     3\n",
              "28368                Mantab buat refresing sama keluarga     3\n",
              "7751   Sejuk udara dipuncaknya dn bagus jg tempatnya ...     4\n",
              "3447   Candi terbesar di dunia dan merupakan monumen ...     4"
            ]
          },
          "metadata": {
            "tags": []
          },
          "execution_count": 59
        }
      ]
    },
    {
      "cell_type": "code",
      "metadata": {
        "colab": {
          "base_uri": "https://localhost:8080/"
        },
        "id": "Kv-sIt8opBhG",
        "outputId": "09b59889-0623-4514-dcfb-f1f577cb5cfd"
      },
      "source": [
        "from sklearn.model_selection import train_test_split\n",
        "\n",
        "X_train, X_test, y_train, y_test = train_test_split(\n",
        "    df[FEATURES],\n",
        "    df[TARGET],\n",
        "    test_size=0.1,\n",
        "    random_state=45)\n",
        "\n",
        "y_train.groupby(y_train).count()"
      ],
      "execution_count": 60,
      "outputs": [
        {
          "output_type": "execute_result",
          "data": {
            "text/plain": [
              "star\n",
              "0      862\n",
              "1      836\n",
              "2     4390\n",
              "3     9609\n",
              "4    18794\n",
              "Name: star, dtype: int64"
            ]
          },
          "metadata": {
            "tags": []
          },
          "execution_count": 60
        }
      ]
    },
    {
      "cell_type": "code",
      "metadata": {
        "colab": {
          "base_uri": "https://localhost:8080/"
        },
        "id": "mfVaJ8Wap8FL",
        "outputId": "c4b5a447-e8a8-4e98-ce92-7cc7f6e7d78b"
      },
      "source": [
        "y_test.groupby(y_test).count()"
      ],
      "execution_count": 61,
      "outputs": [
        {
          "output_type": "execute_result",
          "data": {
            "text/plain": [
              "star\n",
              "0      97\n",
              "1      88\n",
              "2     481\n",
              "3    1032\n",
              "4    2135\n",
              "Name: star, dtype: int64"
            ]
          },
          "metadata": {
            "tags": []
          },
          "execution_count": 61
        }
      ]
    },
    {
      "cell_type": "code",
      "metadata": {
        "id": "r35fzXFnrKKr"
      },
      "source": [
        "import numpy as np\n",
        "\n",
        "training_sentences = []\n",
        "training_labels = []\n",
        "\n",
        "testing_sentences = []\n",
        "testing_labels = []\n",
        "\n",
        "for s in X_train:\n",
        "  training_sentences.append(s)\n",
        "for s in y_train:\n",
        "  training_labels.append(s)\n",
        "for s in X_test:\n",
        "  testing_sentences.append(s)\n",
        "for s in y_test:\n",
        "  testing_labels.append(s)\n",
        "  \n",
        "\n",
        "training_labels_final = np.array(training_labels)\n",
        "testing_labels_final = np.array(testing_labels)"
      ],
      "execution_count": 62,
      "outputs": []
    },
    {
      "cell_type": "code",
      "metadata": {
        "colab": {
          "base_uri": "https://localhost:8080/",
          "height": 36
        },
        "id": "cngITBA5STd4",
        "outputId": "8490fd7f-821f-440b-fa89-9b73c778a0da"
      },
      "source": [
        "training_sentences[1]"
      ],
      "execution_count": 63,
      "outputs": [
        {
          "output_type": "execute_result",
          "data": {
            "application/vnd.google.colaboratory.intrinsic+json": {
              "type": "string"
            },
            "text/plain": [
              "'Tempatnya bersih bagus asyik buat liburan bersama keluarga maupun sama pacar Sewa aja motor2an kayak gitu buat keliling2 ditepi pantai murah kok 25rb 20menit'"
            ]
          },
          "metadata": {
            "tags": []
          },
          "execution_count": 63
        }
      ]
    },
    {
      "cell_type": "code",
      "metadata": {
        "id": "v5zbxXL6ugA_"
      },
      "source": [
        "vocab_size = 10000\n",
        "embedding_dim = 16\n",
        "max_length = 120\n",
        "trunc_type='post'\n",
        "oov_tok = \"<OOV>\"\n",
        "\n",
        "\n",
        "from tensorflow.keras.preprocessing.text import Tokenizer\n",
        "from tensorflow.keras.preprocessing.sequence import pad_sequences\n",
        "\n",
        "tokenizer = Tokenizer(num_words = vocab_size, oov_token=oov_tok)\n",
        "tokenizer.fit_on_texts(training_sentences)\n",
        "word_index = tokenizer.word_index\n",
        "sequences = tokenizer.texts_to_sequences(training_sentences)\n",
        "padded = pad_sequences(sequences,maxlen=max_length, truncating=trunc_type)\n",
        "\n",
        "testing_sequences = tokenizer.texts_to_sequences(testing_sentences)\n",
        "testing_padded = pad_sequences(testing_sequences,maxlen=max_length)\n"
      ],
      "execution_count": 64,
      "outputs": []
    },
    {
      "cell_type": "code",
      "metadata": {
        "colab": {
          "base_uri": "https://localhost:8080/"
        },
        "id": "DeqEj3Piva-o",
        "outputId": "96ba3aff-8c16-40dd-cf64-e04ec437f4a7"
      },
      "source": [
        "reverse_word_index = dict([(value, key) for (key, value) in word_index.items()])\n",
        "\n",
        "def decode_review(text):\n",
        "    return ' '.join([reverse_word_index.get(i, '?') for i in text])\n",
        "\n",
        "print(decode_review(padded[3]))\n",
        "print(training_sentences[3])"
      ],
      "execution_count": 65,
      "outputs": [
        {
          "output_type": "stream",
          "text": [
            "? ? ? ? ? ? ? ? ? ? ? ? ? ? ? ? ? ? ? ? ? ? ? ? ? ? ? ? ? ? ? ? ? ? ? ? ? ? ? ? ? ? ? ? ? ? ? ? ? ? ? ? ? ? ? ? ? ? ? ? ? ? ? ? ? ? ? ? ? ? ? ? ? ? ? ? ? ? ? ? ? ? ? ? ? ? ? ? ? ? ? ? ? ? ? ? ? ? ? ? ? ? ? bunga2nya cantik memanjakan mata tapi untuk akses keluar masuk di area parkir butuh perhatian khusus sangat semrawut\n",
            "Bunga2nya cantik memanjakan mata Tapi untuk akses keluar masuk di area parkir butuh perhatian khusus Sangat SEMRAWUT\n"
          ],
          "name": "stdout"
        }
      ]
    },
    {
      "cell_type": "code",
      "metadata": {
        "colab": {
          "base_uri": "https://localhost:8080/"
        },
        "id": "o1RQ_cFQvpnZ",
        "outputId": "cc875409-182b-4464-8ecc-66fa2d53f1e3"
      },
      "source": [
        "import tensorflow as tf\n",
        "\n",
        "model = tf.keras.Sequential([\n",
        "    tf.keras.layers.Embedding(vocab_size, embedding_dim, input_length=max_length),\n",
        "    tf.keras.layers.GlobalAveragePooling1D(),\n",
        "    tf.keras.layers.Dense(24, activation='relu'),\n",
        "    tf.keras.layers.Dense(5, activation='softmax')\n",
        "])\n",
        "model.compile(loss='sparse_categorical_crossentropy',optimizer='adam',metrics=['accuracy'])\n",
        "model.summary()\n"
      ],
      "execution_count": 66,
      "outputs": [
        {
          "output_type": "stream",
          "text": [
            "Model: \"sequential_1\"\n",
            "_________________________________________________________________\n",
            "Layer (type)                 Output Shape              Param #   \n",
            "=================================================================\n",
            "embedding_1 (Embedding)      (None, 120, 16)           160000    \n",
            "_________________________________________________________________\n",
            "global_average_pooling1d_1 ( (None, 16)                0         \n",
            "_________________________________________________________________\n",
            "dense_2 (Dense)              (None, 24)                408       \n",
            "_________________________________________________________________\n",
            "dense_3 (Dense)              (None, 5)                 125       \n",
            "=================================================================\n",
            "Total params: 160,533\n",
            "Trainable params: 160,533\n",
            "Non-trainable params: 0\n",
            "_________________________________________________________________\n"
          ],
          "name": "stdout"
        }
      ]
    },
    {
      "cell_type": "code",
      "metadata": {
        "colab": {
          "base_uri": "https://localhost:8080/"
        },
        "id": "oYgbjwVxvsUz",
        "outputId": "90937eb7-0417-4a61-cfc5-b99ca7cd82a2"
      },
      "source": [
        "num_epochs = 20\n",
        "history = model.fit(padded, training_labels_final, epochs=num_epochs, validation_data=(testing_padded, testing_labels_final),verbose=2)"
      ],
      "execution_count": 67,
      "outputs": [
        {
          "output_type": "stream",
          "text": [
            "Epoch 1/20\n",
            "1078/1078 - 4s - loss: 1.1559 - accuracy: 0.5431 - val_loss: 1.0976 - val_accuracy: 0.5570\n",
            "Epoch 2/20\n",
            "1078/1078 - 3s - loss: 1.0678 - accuracy: 0.5523 - val_loss: 1.0231 - val_accuracy: 0.5698\n",
            "Epoch 3/20\n",
            "1078/1078 - 3s - loss: 1.0027 - accuracy: 0.5811 - val_loss: 0.9980 - val_accuracy: 0.5941\n",
            "Epoch 4/20\n",
            "1078/1078 - 3s - loss: 0.9704 - accuracy: 0.5976 - val_loss: 0.9894 - val_accuracy: 0.5948\n",
            "Epoch 5/20\n",
            "1078/1078 - 3s - loss: 0.9497 - accuracy: 0.6087 - val_loss: 0.9836 - val_accuracy: 0.5993\n",
            "Epoch 6/20\n",
            "1078/1078 - 3s - loss: 0.9305 - accuracy: 0.6178 - val_loss: 0.9877 - val_accuracy: 0.6001\n",
            "Epoch 7/20\n",
            "1078/1078 - 3s - loss: 0.9135 - accuracy: 0.6248 - val_loss: 0.9853 - val_accuracy: 0.6042\n",
            "Epoch 8/20\n",
            "1078/1078 - 3s - loss: 0.8973 - accuracy: 0.6326 - val_loss: 0.9940 - val_accuracy: 0.6006\n",
            "Epoch 9/20\n",
            "1078/1078 - 3s - loss: 0.8815 - accuracy: 0.6397 - val_loss: 1.0006 - val_accuracy: 0.5969\n",
            "Epoch 10/20\n",
            "1078/1078 - 3s - loss: 0.8646 - accuracy: 0.6483 - val_loss: 1.0136 - val_accuracy: 0.5909\n",
            "Epoch 11/20\n",
            "1078/1078 - 3s - loss: 0.8503 - accuracy: 0.6555 - val_loss: 1.0194 - val_accuracy: 0.5982\n",
            "Epoch 12/20\n",
            "1078/1078 - 3s - loss: 0.8353 - accuracy: 0.6612 - val_loss: 1.0282 - val_accuracy: 0.5954\n",
            "Epoch 13/20\n",
            "1078/1078 - 3s - loss: 0.8202 - accuracy: 0.6688 - val_loss: 1.0398 - val_accuracy: 0.5907\n",
            "Epoch 14/20\n",
            "1078/1078 - 3s - loss: 0.8086 - accuracy: 0.6747 - val_loss: 1.0574 - val_accuracy: 0.5896\n",
            "Epoch 15/20\n",
            "1078/1078 - 3s - loss: 0.7950 - accuracy: 0.6804 - val_loss: 1.0726 - val_accuracy: 0.5862\n",
            "Epoch 16/20\n",
            "1078/1078 - 3s - loss: 0.7832 - accuracy: 0.6857 - val_loss: 1.0847 - val_accuracy: 0.5818\n",
            "Epoch 17/20\n",
            "1078/1078 - 3s - loss: 0.7711 - accuracy: 0.6901 - val_loss: 1.1090 - val_accuracy: 0.5633\n",
            "Epoch 18/20\n",
            "1078/1078 - 3s - loss: 0.7608 - accuracy: 0.6926 - val_loss: 1.1155 - val_accuracy: 0.5774\n",
            "Epoch 19/20\n",
            "1078/1078 - 3s - loss: 0.7493 - accuracy: 0.6999 - val_loss: 1.1347 - val_accuracy: 0.5646\n",
            "Epoch 20/20\n",
            "1078/1078 - 3s - loss: 0.7399 - accuracy: 0.7035 - val_loss: 1.1517 - val_accuracy: 0.5570\n"
          ],
          "name": "stdout"
        }
      ]
    },
    {
      "cell_type": "code",
      "metadata": {
        "colab": {
          "base_uri": "https://localhost:8080/",
          "height": 541
        },
        "id": "QE8LxePC1Ft0",
        "outputId": "46c024d9-bc38-46ad-ebf4-9c06700dd2fa"
      },
      "source": [
        "import matplotlib.pyplot as plt\n",
        "\n",
        "\n",
        "def plot_graphs(history, string):\n",
        "  plt.plot(history.history[string])\n",
        "  plt.plot(history.history['val_'+string])\n",
        "  plt.xlabel(\"Epochs\")\n",
        "  plt.ylabel(string)\n",
        "  plt.legend([string, 'val_'+string])\n",
        "  plt.show()\n",
        "  \n",
        "plot_graphs(history, \"accuracy\")\n",
        "plot_graphs(history, \"loss\")"
      ],
      "execution_count": 68,
      "outputs": [
        {
          "output_type": "display_data",
          "data": {
            "image/png": "[encoded data removed]",
            "text/plain": [
              "<Figure size 432x288 with 1 Axes>"
            ]
          },
          "metadata": {
            "tags": [],
            "needs_background": "light"
          }
        },
        {
          "output_type": "display_data",
          "data": {
            "image/png": "[encoded data removed]",
            "text/plain": [
              "<Figure size 432x288 with 1 Axes>"
            ]
          },
          "metadata": {
            "tags": [],
            "needs_background": "light"
          }
        }
      ]
    },
    {
      "cell_type": "code",
      "metadata": {
        "colab": {
          "base_uri": "https://localhost:8080/"
        },
        "id": "vxJA8rH_1LUA",
        "outputId": "6b2862da-865f-4cd1-f9f8-50898bac6e8a"
      },
      "source": [
        "predsentence = [\n",
        "                'tempatnya banyak sampah, petugas tidak ramah',\n",
        "                'bersih dan rapi',\n",
        "                'kotor',\n",
        "                'jalan sulit dilalui',\n",
        "                'pelayanan lama sekali',\n",
        "                'puas',\n",
        "                'sayang',\n",
        "                'goblok',\n",
        "                'bodoh',\n",
        "                'terlalu ramai dan kotor'\n",
        "                ]\n",
        "predsequences = tokenizer.texts_to_sequences(predsentence)\n",
        "predpadded = pad_sequences(predsequences,maxlen=max_length)\n",
        "model.predict(predpadded)"
      ],
      "execution_count": 70,
      "outputs": [
        {
          "output_type": "execute_result",
          "data": {
            "text/plain": [
              "array([[0.09072325, 0.07071651, 0.10340779, 0.29664296, 0.43850952],\n",
              "       [0.00474253, 0.00416875, 0.05609726, 0.26077226, 0.67421925],\n",
              "       [0.25535583, 0.25121418, 0.2945773 , 0.12839161, 0.07046102],\n",
              "       [0.03048621, 0.02722715, 0.16671637, 0.28054595, 0.49502432],\n",
              "       [0.03297455, 0.02487113, 0.1024695 , 0.2299301 , 0.6097547 ],\n",
              "       [0.03205953, 0.0246952 , 0.07636915, 0.28385684, 0.58301926],\n",
              "       [0.02398466, 0.02355369, 0.13533475, 0.38304108, 0.43408585],\n",
              "       [0.04481314, 0.0356095 , 0.12556626, 0.26891539, 0.5250957 ],\n",
              "       [0.07069743, 0.05682661, 0.16700096, 0.25964588, 0.4458291 ],\n",
              "       [0.14334226, 0.20783105, 0.48445663, 0.13895284, 0.02541721]],\n",
              "      dtype=float32)"
            ]
          },
          "metadata": {
            "tags": []
          },
          "execution_count": 70
        }
      ]
    },
    {
      "cell_type": "code",
      "metadata": {
        "id": "cfqS8V1D2UkM"
      },
      "source": [
        ""
      ],
      "execution_count": 86,
      "outputs": []
    }
  ]
}